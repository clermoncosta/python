{
  "nbformat": 4,
  "nbformat_minor": 0,
  "metadata": {
    "colab": {
      "provenance": [],
      "authorship_tag": "ABX9TyPLTFz9Rp6KmOhe3jX8TTOk",
      "include_colab_link": true
    },
    "kernelspec": {
      "name": "python3",
      "display_name": "Python 3"
    },
    "language_info": {
      "name": "python"
    }
  },
  "cells": [
    {
      "cell_type": "markdown",
      "metadata": {
        "id": "view-in-github",
        "colab_type": "text"
      },
      "source": [
        "<a href=\"https://colab.research.google.com/github/clermoncosta/python/blob/main/Untitled3.ipynb\" target=\"_parent\"><img src=\"https://colab.research.google.com/assets/colab-badge.svg\" alt=\"Open In Colab\"/></a>"
      ]
    },
    {
      "cell_type": "markdown",
      "source": [
        "**Exercicio 2 - Estruturas de Dados**\n",
        "\n",
        "**Aluno:** Clérmon Costa"
      ],
      "metadata": {
        "id": "3MvUtQ92bunl"
      }
    },
    {
      "cell_type": "markdown",
      "source": [
        "**Item 1 - Listas**\n",
        "\n",
        "Criei uma lista chamada filmes com o nome dos 10 primeiros filmes mais bem\n",
        "avaliados no site no IMDB. Imprima o resultado.\n",
        "\n"
      ],
      "metadata": {
        "id": "Bhv-iUknb4X9"
      }
    },
    {
      "cell_type": "code",
      "source": [
        "print ('Lista com os 10 filmes:')\n",
        "filmes = ['Um Sonho de Liberdade', 'O Poderoso Chefão','Batman: O Cavaleiro das Trevas','O Poderoso Chefão II', '12 Homens e uma Sentença']\n",
        "filmes += ['A Lista de Schindler','O Senhor dos Anéis: O Retorno do Rei','Pulp Fiction: Tempo de Violência ','O Senhor dos Anéis: A Sociedade do Anel','Três Homens em Conflito']\n",
        "print(filmes)\n",
        "\n",
        "filmes.insert(0,'O Poderoso Chefão')\n",
        "filmes.pop(1)\n",
        "filmes.insert(1,'Um Sonho de Liberdade')\n",
        "filmes.pop(2)\n",
        "\n",
        "print ('Ranking atualizado:')\n",
        "print(filmes)\n",
        "print(len(filmes))"
      ],
      "metadata": {
        "colab": {
          "base_uri": "https://localhost:8080/"
        },
        "id": "Ljg2NhCccAxu",
        "outputId": "51c75106-9c7f-448d-966f-b1e23f71c98c"
      },
      "execution_count": 36,
      "outputs": [
        {
          "output_type": "stream",
          "name": "stdout",
          "text": [
            "Lista com os 10 filmes:\n",
            "['Um Sonho de Liberdade', 'O Poderoso Chefão', 'Batman: O Cavaleiro das Trevas', 'O Poderoso Chefão II', '12 Homens e uma Sentença', 'A Lista de Schindler', 'O Senhor dos Anéis: O Retorno do Rei', 'Pulp Fiction: Tempo de Violência ', 'O Senhor dos Anéis: A Sociedade do Anel', 'Três Homens em Conflito']\n",
            "Ranking atualizado:\n",
            "['O Poderoso Chefão', 'Um Sonho de Liberdade', 'Batman: O Cavaleiro das Trevas', 'O Poderoso Chefão II', '12 Homens e uma Sentença', 'A Lista de Schindler', 'O Senhor dos Anéis: O Retorno do Rei', 'Pulp Fiction: Tempo de Violência ', 'O Senhor dos Anéis: A Sociedade do Anel', 'Três Homens em Conflito']\n",
            "10\n"
          ]
        }
      ]
    },
    {
      "cell_type": "markdown",
      "source": [
        "**Item 2 - Conjuntos**\n",
        "\n",
        "Aconteceu um erro no seu ranking. Simule a duplicação dos três últimos filmes da\n",
        "lista. Imprima o resultado."
      ],
      "metadata": {
        "id": "9jG5-wHse0MQ"
      }
    },
    {
      "cell_type": "code",
      "execution_count": 22,
      "metadata": {
        "colab": {
          "base_uri": "https://localhost:8080/"
        },
        "id": "y1j8QtgsbsaI",
        "outputId": "964a311e-ed09-4581-de72-992bb13c0386"
      },
      "outputs": [
        {
          "output_type": "stream",
          "name": "stdout",
          "text": [
            "3 filmes duplicados\n",
            "['O Poderoso Chefão', 'Um Sonho de Liberdade', 'Batman: O Cavaleiro das Trevas', 'O Poderoso Chefão II', '12 Homens e uma Sentença', 'A Lista de Schindler', 'O Senhor dos Anéis: O Retorno do Rei', 'Pulp Fiction: Tempo de Violência ', 'O Senhor dos Anéis: A Sociedade do Anel', 'Três Homens em Conflito', 'Pulp Fiction: Tempo de Violência ', 'O Senhor dos Anéis: A Sociedade do Anel', 'Três Homens em Conflito']\n",
            "13\n"
          ]
        }
      ],
      "source": [
        "filmes.append('Pulp Fiction: Tempo de Violência ')\n",
        "filmes.append('O Senhor dos Anéis: A Sociedade do Anel')\n",
        "filmes.append('Três Homens em Conflito')\n",
        "\n",
        "print('3 filmes duplicados')\n",
        "print(filmes)\n",
        "print(len(filmes))"
      ]
    },
    {
      "cell_type": "markdown",
      "source": [
        "Utiliza a conversão set e list para remover os valores duplicados. Imprima o\n",
        "resultado."
      ],
      "metadata": {
        "id": "tlawJDjmfgM5"
      }
    },
    {
      "cell_type": "code",
      "source": [
        "filmes_sem_duplicidade = list(set(filmes))\n",
        "print(filmes_sem_duplicidade)\n",
        "print(len(filmes_sem_duplicidade))"
      ],
      "metadata": {
        "colab": {
          "base_uri": "https://localhost:8080/"
        },
        "id": "j9g9T0cyfkRm",
        "outputId": "2710f505-5bba-4e2d-fe19-7b30c041e96f"
      },
      "execution_count": 23,
      "outputs": [
        {
          "output_type": "stream",
          "name": "stdout",
          "text": [
            "['Batman: O Cavaleiro das Trevas', 'O Poderoso Chefão II', 'O Poderoso Chefão', 'O Senhor dos Anéis: A Sociedade do Anel', 'Um Sonho de Liberdade', 'O Senhor dos Anéis: O Retorno do Rei', 'Pulp Fiction: Tempo de Violência ', 'A Lista de Schindler', '12 Homens e uma Sentença', 'Três Homens em Conflito']\n",
            "10\n"
          ]
        }
      ]
    },
    {
      "cell_type": "markdown",
      "source": [
        "**Item 3 - Dicionários**\n",
        "\n",
        "Repita os exercícios da parte 1 (listas). Os elementos da lista filmes devem ser\n",
        "dicionários no seguinte formato: {'nome': <nome-do-filme>, 'ano': <ano\n",
        "do filme>, 'sinopse': <sinopse do filme>} ."
      ],
      "metadata": {
        "id": "Iy5K78BqgZIg"
      }
    },
    {
      "cell_type": "code",
      "source": [
        "dic_filmes = dict \n",
        "dic_filmes = {'1': {\n",
        "              'nome': 'Um Sonho de Liberdade', \n",
        "              'ano': 1994, \n",
        "              'sinopse': 'Dois homens presos se reúnem ao longo de vários anos, encontrando consolo e eventual redenção através de atos de decência comum.',\n",
        "               },\n",
        "              '2': {\n",
        "              'nome': 'O Poderoso Chefão', \n",
        "              'ano': 1972, \n",
        "              'sinopse': 'O patriarca idoso de uma dinastia do crime organizado transfere o controle de seu império clandestino para seu filho relutante.',\n",
        "              },\n",
        "              '3':{\n",
        "              'nome': 'Batman: O Cavaleiro das Trevas', \n",
        "              'ano': 2008, \n",
        "              'sinopse': 'Quando a ameaça conhecida como O Coringa surge de seu passado, causa estragos e caos nas pessoas de Gotham. O Cavaleiro das Trevas deve aceitar um dos maiores testes para combater a injustiça.',\n",
        "              },\n",
        "              '4':{\n",
        "              'nome': 'O Poderoso Chefão II', \n",
        "              'ano': 1974, \n",
        "              'sinopse': 'Em 1950, Michael Corleone, agora à frente da família, tenta expandir o negócio do crime a Las Vegas, Los Angeles e Cuba. Paralelamente, é revelada a história de Vito Corleone, e de como saiu da Sicília e chegou a Nova Iorque.',\n",
        "              },\n",
        "              '5':{\n",
        "              'nome': '12 Homens e uma Sentença', \n",
        "              'ano': 1957, \n",
        "              'sinopse': 'Um jurado que se aposenta tenta evitar um erro judicial forçando seus colegas a reconsiderarem as evidências.',\n",
        "              },\n",
        "              '6': {\n",
        "              'nome': 'A Lista de Schindler', \n",
        "              'ano': 1993, \n",
        "              'sinopse': 'Depois de testemunhar a perseguição dos judaicos na Polônia ocupada pelos alemães durante a Segunda Guerra Mundial, o industrial Oskar Schindler se começa a preocupar com sua força de trabalho judaica.',\n",
        "               },\n",
        "              '7': {\n",
        "              'nome': 'O Senhor dos Anéis: O Retorno do Rei', \n",
        "              'ano': 2003, \n",
        "              'sinopse': 'Gandalf e Aragorn lideram o Mundo dos Homens contra o exército de Sauron para desviar o olhar de Frodo e Sam quando eles se aproximam á Montanha da Perdição com o Um Anel.',\n",
        "              },\n",
        "              '8':{\n",
        "              'nome': 'Pulp Fiction: Tempo de Violência', \n",
        "              'ano': 1994, \n",
        "              'sinopse': 'As vidas de dois assassinos da máfia, um boxeador, um gângster e sua esposa, e um par de bandidos se entrelaçam em quatro histórias de violência e redenção.',\n",
        "              },\n",
        "              '9':{\n",
        "              'nome': 'O Senhor dos Anéis: A Sociedade do Anel', \n",
        "              'ano': 2001, \n",
        "              'sinopse': 'Um manso hobbit do Condado e oito companheiros partem em uma jornada para destruir o poderoso Um Anel e salvar a Terra-média das Trevas.',\n",
        "              },\n",
        "              '10':{\n",
        "              'nome': ' Três Homens em Conflito', \n",
        "              'ano': 1966, \n",
        "              'sinopse': 'Um impostor se junta com dois homens para encontrar fortuna num remoto cemitério.',\n",
        "              }\n",
        "}\n",
        "print(dic_filmes)\n",
        "\n",
        "dic_filmes_2 = dic_filmes\n",
        "dic_filmes_2.update({'1':{'nome': 'O Poderoso Chefão', \n",
        "              'ano': 1972, \n",
        "              'sinopse': 'O patriarca idoso de uma dinastia do crime organizado transfere o controle de seu império clandestino para seu filho relutante.',}})\n",
        "dic_filmes_2.update({'2':{ 'nome': 'Um Sonho de Liberdade', \n",
        "              'ano': 1994, \n",
        "              'sinopse': 'Dois homens presos se reúnem ao longo de vários anos, encontrando consolo e eventual redenção através de atos de decência comum.'}})\n",
        "print(dic_filmes_2)\n",
        "\n",
        "dic_filmes_3 = dic_filmes_2\n",
        "dic_filmes_3.pop('1')\n",
        "print(dic_filmes)\n",
        "\n",
        "\n",
        "\n"
      ],
      "metadata": {
        "colab": {
          "base_uri": "https://localhost:8080/"
        },
        "id": "RQkm-JZwgfS3",
        "outputId": "ffcac144-c994-41cd-ab4f-0a6d9edcee26"
      },
      "execution_count": 77,
      "outputs": [
        {
          "output_type": "stream",
          "name": "stdout",
          "text": [
            "{'1': {'nome': 'Um Sonho de Liberdade', 'ano': 1994, 'sinopse': 'Dois homens presos se reúnem ao longo de vários anos, encontrando consolo e eventual redenção através de atos de decência comum.'}, '2': {'nome': 'O Poderoso Chefão', 'ano': 1972, 'sinopse': 'O patriarca idoso de uma dinastia do crime organizado transfere o controle de seu império clandestino para seu filho relutante.'}, '3': {'nome': 'Batman: O Cavaleiro das Trevas', 'ano': 2008, 'sinopse': 'Quando a ameaça conhecida como O Coringa surge de seu passado, causa estragos e caos nas pessoas de Gotham. O Cavaleiro das Trevas deve aceitar um dos maiores testes para combater a injustiça.'}, '4': {'nome': 'O Poderoso Chefão II', 'ano': 1974, 'sinopse': 'Em 1950, Michael Corleone, agora à frente da família, tenta expandir o negócio do crime a Las Vegas, Los Angeles e Cuba. Paralelamente, é revelada a história de Vito Corleone, e de como saiu da Sicília e chegou a Nova Iorque.'}, '5': {'nome': '12 Homens e uma Sentença', 'ano': 1957, 'sinopse': 'Um jurado que se aposenta tenta evitar um erro judicial forçando seus colegas a reconsiderarem as evidências.'}, '6': {'nome': 'A Lista de Schindler', 'ano': 1993, 'sinopse': 'Depois de testemunhar a perseguição dos judaicos na Polônia ocupada pelos alemães durante a Segunda Guerra Mundial, o industrial Oskar Schindler se começa a preocupar com sua força de trabalho judaica.'}, '7': {'nome': 'O Senhor dos Anéis: O Retorno do Rei', 'ano': 2003, 'sinopse': 'Gandalf e Aragorn lideram o Mundo dos Homens contra o exército de Sauron para desviar o olhar de Frodo e Sam quando eles se aproximam á Montanha da Perdição com o Um Anel.'}, '8': {'nome': 'Pulp Fiction: Tempo de Violência', 'ano': 1994, 'sinopse': 'As vidas de dois assassinos da máfia, um boxeador, um gângster e sua esposa, e um par de bandidos se entrelaçam em quatro histórias de violência e redenção.'}, '9': {'nome': 'O Senhor dos Anéis: A Sociedade do Anel', 'ano': 2001, 'sinopse': 'Um manso hobbit do Condado e oito companheiros partem em uma jornada para destruir o poderoso Um Anel e salvar a Terra-média das Trevas.'}, '10': {'nome': ' Três Homens em Conflito', 'ano': 1966, 'sinopse': 'Um impostor se junta com dois homens para encontrar fortuna num remoto cemitério.'}}\n",
            "{'1': {'nome': 'O Poderoso Chefão', 'ano': 1972, 'sinopse': 'O patriarca idoso de uma dinastia do crime organizado transfere o controle de seu império clandestino para seu filho relutante.'}, '2': {'nome': 'Um Sonho de Liberdade', 'ano': 1994, 'sinopse': 'Dois homens presos se reúnem ao longo de vários anos, encontrando consolo e eventual redenção através de atos de decência comum.'}, '3': {'nome': 'Batman: O Cavaleiro das Trevas', 'ano': 2008, 'sinopse': 'Quando a ameaça conhecida como O Coringa surge de seu passado, causa estragos e caos nas pessoas de Gotham. O Cavaleiro das Trevas deve aceitar um dos maiores testes para combater a injustiça.'}, '4': {'nome': 'O Poderoso Chefão II', 'ano': 1974, 'sinopse': 'Em 1950, Michael Corleone, agora à frente da família, tenta expandir o negócio do crime a Las Vegas, Los Angeles e Cuba. Paralelamente, é revelada a história de Vito Corleone, e de como saiu da Sicília e chegou a Nova Iorque.'}, '5': {'nome': '12 Homens e uma Sentença', 'ano': 1957, 'sinopse': 'Um jurado que se aposenta tenta evitar um erro judicial forçando seus colegas a reconsiderarem as evidências.'}, '6': {'nome': 'A Lista de Schindler', 'ano': 1993, 'sinopse': 'Depois de testemunhar a perseguição dos judaicos na Polônia ocupada pelos alemães durante a Segunda Guerra Mundial, o industrial Oskar Schindler se começa a preocupar com sua força de trabalho judaica.'}, '7': {'nome': 'O Senhor dos Anéis: O Retorno do Rei', 'ano': 2003, 'sinopse': 'Gandalf e Aragorn lideram o Mundo dos Homens contra o exército de Sauron para desviar o olhar de Frodo e Sam quando eles se aproximam á Montanha da Perdição com o Um Anel.'}, '8': {'nome': 'Pulp Fiction: Tempo de Violência', 'ano': 1994, 'sinopse': 'As vidas de dois assassinos da máfia, um boxeador, um gângster e sua esposa, e um par de bandidos se entrelaçam em quatro histórias de violência e redenção.'}, '9': {'nome': 'O Senhor dos Anéis: A Sociedade do Anel', 'ano': 2001, 'sinopse': 'Um manso hobbit do Condado e oito companheiros partem em uma jornada para destruir o poderoso Um Anel e salvar a Terra-média das Trevas.'}, '10': {'nome': ' Três Homens em Conflito', 'ano': 1966, 'sinopse': 'Um impostor se junta com dois homens para encontrar fortuna num remoto cemitério.'}}\n",
            "{'2': {'nome': 'Um Sonho de Liberdade', 'ano': 1994, 'sinopse': 'Dois homens presos se reúnem ao longo de vários anos, encontrando consolo e eventual redenção através de atos de decência comum.'}, '3': {'nome': 'Batman: O Cavaleiro das Trevas', 'ano': 2008, 'sinopse': 'Quando a ameaça conhecida como O Coringa surge de seu passado, causa estragos e caos nas pessoas de Gotham. O Cavaleiro das Trevas deve aceitar um dos maiores testes para combater a injustiça.'}, '4': {'nome': 'O Poderoso Chefão II', 'ano': 1974, 'sinopse': 'Em 1950, Michael Corleone, agora à frente da família, tenta expandir o negócio do crime a Las Vegas, Los Angeles e Cuba. Paralelamente, é revelada a história de Vito Corleone, e de como saiu da Sicília e chegou a Nova Iorque.'}, '5': {'nome': '12 Homens e uma Sentença', 'ano': 1957, 'sinopse': 'Um jurado que se aposenta tenta evitar um erro judicial forçando seus colegas a reconsiderarem as evidências.'}, '6': {'nome': 'A Lista de Schindler', 'ano': 1993, 'sinopse': 'Depois de testemunhar a perseguição dos judaicos na Polônia ocupada pelos alemães durante a Segunda Guerra Mundial, o industrial Oskar Schindler se começa a preocupar com sua força de trabalho judaica.'}, '7': {'nome': 'O Senhor dos Anéis: O Retorno do Rei', 'ano': 2003, 'sinopse': 'Gandalf e Aragorn lideram o Mundo dos Homens contra o exército de Sauron para desviar o olhar de Frodo e Sam quando eles se aproximam á Montanha da Perdição com o Um Anel.'}, '8': {'nome': 'Pulp Fiction: Tempo de Violência', 'ano': 1994, 'sinopse': 'As vidas de dois assassinos da máfia, um boxeador, um gângster e sua esposa, e um par de bandidos se entrelaçam em quatro histórias de violência e redenção.'}, '9': {'nome': 'O Senhor dos Anéis: A Sociedade do Anel', 'ano': 2001, 'sinopse': 'Um manso hobbit do Condado e oito companheiros partem em uma jornada para destruir o poderoso Um Anel e salvar a Terra-média das Trevas.'}, '10': {'nome': ' Três Homens em Conflito', 'ano': 1966, 'sinopse': 'Um impostor se junta com dois homens para encontrar fortuna num remoto cemitério.'}}\n"
          ]
        }
      ]
    }
  ]
}