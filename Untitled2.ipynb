{
  "nbformat": 4,
  "nbformat_minor": 0,
  "metadata": {
    "colab": {
      "provenance": [],
      "authorship_tag": "ABX9TyNTZFIiBeleid84F/+bxMjW",
      "include_colab_link": true
    },
    "kernelspec": {
      "name": "python3",
      "display_name": "Python 3"
    },
    "language_info": {
      "name": "python"
    }
  },
  "cells": [
    {
      "cell_type": "markdown",
      "metadata": {
        "id": "view-in-github",
        "colab_type": "text"
      },
      "source": [
        "<a href=\"https://colab.research.google.com/github/clermoncosta/python/blob/main/Untitled2.ipynb\" target=\"_parent\"><img src=\"https://colab.research.google.com/assets/colab-badge.svg\" alt=\"Open In Colab\"/></a>"
      ]
    },
    {
      "cell_type": "markdown",
      "source": [
        "**Exercício 1** - Python para análise de dados \n",
        "\n",
        "**Aluno:** Clérmon Costa\n"
      ],
      "metadata": {
        "id": "Ub453XLcu5yo"
      }
    },
    {
      "cell_type": "markdown",
      "source": [
        "**Item 1 - Olá mundo**\n",
        "\n",
        "\n",
        "\n",
        "\n"
      ],
      "metadata": {
        "id": "xkfoCFNJvocC"
      }
    },
    {
      "cell_type": "code",
      "execution_count": 2,
      "metadata": {
        "colab": {
          "base_uri": "https://localhost:8080/"
        },
        "id": "ox5rqATRu5EB",
        "outputId": "e3a92972-7d3a-43d0-d8f2-67774cf817b0"
      },
      "outputs": [
        {
          "output_type": "stream",
          "name": "stdout",
          "text": [
            "Olá mundo!\n"
          ]
        }
      ],
      "source": [
        "print(\"Olá mundo!\")"
      ]
    },
    {
      "cell_type": "markdown",
      "source": [
        "![images.jpg](data:image/jpeg;base64,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)"
      ],
      "metadata": {
        "id": "lKsihuIavoRn"
      }
    },
    {
      "cell_type": "markdown",
      "source": [
        "\n",
        "**Item 2 - Números**\n",
        "\n",
        "\n",
        "Preencha as células de código para preencher os valores de (A), (B) e (C)\n",
        "na tabela de ticket\n",
        "\n",
        "![numeros.jpg](data:image/jpeg;base64,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)\n",
        "\n"
      ],
      "metadata": {
        "id": "cV5Yqi-vwm-x"
      }
    },
    {
      "cell_type": "code",
      "source": [
        "tkt_med_19 = 320.52\n",
        "qtd_v_19 = 3\n",
        "vr_tot_v_19 = tkt_med_19 * qtd_v_19 \n",
        "print('Valor Total Vendas - 19/01: (A)') \n",
        "print(vr_tot_v_19)\n",
        "\n",
        "tkt_med_20 = 119.21\n",
        "vr_tot_v_20 = 834.47\n",
        "qtd_v_19 = vr_tot_v_20 / tkt_med_20\n",
        "print('Qtd Total Vendas - 20/01: (B)')\n",
        "print(int(qtd_v_19))\n",
        "\n",
        "vr_tot_v_21 = 15378.12\n",
        "qtd_v_21 = 5\n",
        "tkt_med_21 = vr_tot_v_21 / qtd_v_21 \n",
        "print('Valor Ticket Médio - 21/01: (C)')\n",
        "print(round(tkt_med_21,2))\n",
        "\n"
      ],
      "metadata": {
        "colab": {
          "base_uri": "https://localhost:8080/"
        },
        "id": "RoUDIfaEwz05",
        "outputId": "d9d16836-baa1-4e33-cd7f-21563dd08bd8"
      },
      "execution_count": 9,
      "outputs": [
        {
          "output_type": "stream",
          "name": "stdout",
          "text": [
            "Valor Total Vendas - 19/01: (A)\n",
            "961.56\n",
            "Qtd Total Vendas - 20/01: (B)\n",
            "7\n",
            "Valor Ticket Médio - 21/01: (C)\n",
            "3075.62\n"
          ]
        }
      ]
    },
    {
      "cell_type": "markdown",
      "source": [
        "**Item 3 - Strings**\n",
        "\n",
        "Aplique três métodos distintos na string abaixo\n",
        "\n",
        "In [ ]: cancao = 'Roda mundo, roda gigante, roda moinho, roda\n",
        "pião.'\n"
      ],
      "metadata": {
        "id": "hG9eqdP5zqM5"
      }
    },
    {
      "cell_type": "code",
      "source": [
        "cancao = 'Roda mundo, roda gigante, roda moinho, roda pião.'\n",
        "\n",
        "print(cancao.upper())\n",
        "\n",
        "print(cancao.find('gigante'))\n",
        "\n",
        "print(cancao.replace('gigante', 'jequiti'))"
      ],
      "metadata": {
        "colab": {
          "base_uri": "https://localhost:8080/"
        },
        "id": "J5M1Kl6HztUa",
        "outputId": "c7c98d8a-5164-4f86-9f89-297920721d0c"
      },
      "execution_count": 12,
      "outputs": [
        {
          "output_type": "stream",
          "name": "stdout",
          "text": [
            "RODA MUNDO, RODA GIGANTE, RODA MOINHO, RODA PIÃO.\n",
            "17\n",
            "Roda mundo, roda jequiti, roda moinho, roda pião.\n"
          ]
        }
      ]
    },
    {
      "cell_type": "markdown",
      "source": [
        "Extraia da string abaixo o valor da taxa selic na variável *selic* e o valor\n",
        "do ano na variavel *ano* . \n",
        "\n",
        "Imprima os valores na tela.\n",
        "\n",
        "In [ ]: noticia = 'Selic vai a 2,75% e supera expectativas; '\n",
        "+ \\ 'é a primeira alta em 6 anos.'\n"
      ],
      "metadata": {
        "id": "C4lhrHl50oPC"
      }
    },
    {
      "cell_type": "code",
      "source": [
        "noticia = 'Selic vai a 2,75% e supera expectativas; '+ 'é a primeira alta em 6 anos.'\n",
        "\n",
        "selic = noticia[noticia.find('2'):noticia.find('%')]\n",
        "ano = (noticia[-7])\n",
        "\n",
        "print('Selic: ' + selic + '%')\n",
        "print ('Ano: ' + ano)\n"
      ],
      "metadata": {
        "colab": {
          "base_uri": "https://localhost:8080/"
        },
        "id": "zNXacKbs0wB3",
        "outputId": "f97d4194-598d-4bb4-8e10-857c47774e47"
      },
      "execution_count": 28,
      "outputs": [
        {
          "output_type": "stream",
          "name": "stdout",
          "text": [
            "Selic: 2,75%\n",
            "Ano: 6\n"
          ]
        }
      ]
    },
    {
      "cell_type": "markdown",
      "source": [
        "** 4 - Booleanos**\n",
        "\n",
        "Utilize a tabela da verdade para responder: qual o valor da variável x?\n",
        "In [ ]:\n",
        "a = False\n",
        "b = True\n",
        "x = not a & b\n",
        "\n",
        "**RESPOSTA:** O Valor de X é **True** porque foi o resultado de NOT a (True) AND b (True). Assim, True and True é igual a True."
      ],
      "metadata": {
        "id": "PZD7HRya2s0T"
      }
    },
    {
      "cell_type": "code",
      "source": [
        "a = False\n",
        "b = True\n",
        "x = not a & b\n",
        "\n",
        "print(x)"
      ],
      "metadata": {
        "colab": {
          "base_uri": "https://localhost:8080/"
        },
        "id": "gC98Qjzn3F6L",
        "outputId": "fb40898d-fff7-4c47-a852-b7f91866fcc9"
      },
      "execution_count": 31,
      "outputs": [
        {
          "output_type": "stream",
          "name": "stdout",
          "text": [
            "True\n"
          ]
        }
      ]
    }
  ]
}